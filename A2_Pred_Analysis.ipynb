{
  "nbformat": 4,
  "nbformat_minor": 0,
  "metadata": {
    "colab": {
      "name": "A2_Pred_Analysis.ipynb",
      "provenance": []
    },
    "kernelspec": {
      "name": "python3",
      "display_name": "Python 3"
    },
    "language_info": {
      "name": "python"
    }
  },
  "cells": [
    {
      "cell_type": "markdown",
      "source": [
        "Code"
      ],
      "metadata": {
        "id": "kkxAleu2O82j"
      }
    },
    {
      "cell_type": "code",
      "source": [
        "import matplotlib.pyplot as plt\n",
        "from sklearn import model_selection\n",
        "from sklearn.linear_model import LogisticRegression\n",
        "#from sklearn.tree import DecisionTreeClassifier\n",
        "#from sklearn.neighbors import KNeighborsClassifier\n",
        "#from sklearn.discriminant_analysis import LinearDiscriminantAnalysis\n",
        "#from sklearn.naive_bayes import GaussianNB\n",
        "from sklearn.naive_bayes import MultinomialNB\n",
        "from sklearn.svm import SVC\n",
        "from sklearn.model_selection import train_test_split\n",
        "from sklearn import datasets\n",
        "import matplotlib.pyplot as plt\n",
        "import pandas as pd\n",
        "import numpy as np\n",
        "import seaborn as sns\n",
        "import re\n",
        "\n",
        "from sklearn.preprocessing import LabelEncoder\n",
        "from sklearn.feature_extraction.text import CountVectorizer\n",
        "from sklearn.metrics import accuracy_score, confusion_matrix, classification_report\n",
        "\n",
        "plt.style.use('ggplot')"
      ],
      "metadata": {
        "id": "f_23InSa0EUl"
      },
      "execution_count": 1,
      "outputs": []
    },
    {
      "cell_type": "code",
      "source": [
        "data = pd.read_csv('sh_data.csv')\n",
        "data.head(5)"
      ],
      "metadata": {
        "colab": {
          "base_uri": "https://localhost:8080/",
          "height": 206
        },
        "id": "_SyQckcT0Muy",
        "outputId": "0bfe1aaa-f36c-436f-ed50-44d451e88b31"
      },
      "execution_count": 30,
      "outputs": [
        {
          "output_type": "execute_result",
          "data": {
            "text/plain": [
              "   Unnamed: 0                                               Text Language\n",
              "0        1269                                  ನಾನು ಹೋಗಬೇಕಾಗಿದೆ.  Kannada\n",
              "1        1953  4, 5. అభిషిక్త క్రైస్తవులు 1919 మొదలుకొని ఏ పన...   Telugu\n",
              "2        1138  ಆದ್ದರಿಂದ ನೀವು ಯಾರನ್ನಾದರೂ ಭೇಟಿಯಾಗುತ್ತೀರಿ ಮತ್ತು ...  Kannada\n",
              "3         989                                  மக்களுக்கு நன்றி.    Tamil\n",
              "4        1085  ಕೆಲವು ಸಾಮಾನ್ಯ ತಪ್ಪು ಮಾಡುವ ಬಗ್ಗೆ ಮಾತನಾಡಲು ಕೆಲವೊ...  Kannada"
            ],
            "text/html": [
              "\n",
              "  <div id=\"df-f2e34a2d-b0b6-4975-86fa-807f1f7e9c54\">\n",
              "    <div class=\"colab-df-container\">\n",
              "      <div>\n",
              "<style scoped>\n",
              "    .dataframe tbody tr th:only-of-type {\n",
              "        vertical-align: middle;\n",
              "    }\n",
              "\n",
              "    .dataframe tbody tr th {\n",
              "        vertical-align: top;\n",
              "    }\n",
              "\n",
              "    .dataframe thead th {\n",
              "        text-align: right;\n",
              "    }\n",
              "</style>\n",
              "<table border=\"1\" class=\"dataframe\">\n",
              "  <thead>\n",
              "    <tr style=\"text-align: right;\">\n",
              "      <th></th>\n",
              "      <th>Unnamed: 0</th>\n",
              "      <th>Text</th>\n",
              "      <th>Language</th>\n",
              "    </tr>\n",
              "  </thead>\n",
              "  <tbody>\n",
              "    <tr>\n",
              "      <th>0</th>\n",
              "      <td>1269</td>\n",
              "      <td>ನಾನು ಹೋಗಬೇಕಾಗಿದೆ.</td>\n",
              "      <td>Kannada</td>\n",
              "    </tr>\n",
              "    <tr>\n",
              "      <th>1</th>\n",
              "      <td>1953</td>\n",
              "      <td>4, 5. అభిషిక్త క్రైస్తవులు 1919 మొదలుకొని ఏ పన...</td>\n",
              "      <td>Telugu</td>\n",
              "    </tr>\n",
              "    <tr>\n",
              "      <th>2</th>\n",
              "      <td>1138</td>\n",
              "      <td>ಆದ್ದರಿಂದ ನೀವು ಯಾರನ್ನಾದರೂ ಭೇಟಿಯಾಗುತ್ತೀರಿ ಮತ್ತು ...</td>\n",
              "      <td>Kannada</td>\n",
              "    </tr>\n",
              "    <tr>\n",
              "      <th>3</th>\n",
              "      <td>989</td>\n",
              "      <td>மக்களுக்கு நன்றி.</td>\n",
              "      <td>Tamil</td>\n",
              "    </tr>\n",
              "    <tr>\n",
              "      <th>4</th>\n",
              "      <td>1085</td>\n",
              "      <td>ಕೆಲವು ಸಾಮಾನ್ಯ ತಪ್ಪು ಮಾಡುವ ಬಗ್ಗೆ ಮಾತನಾಡಲು ಕೆಲವೊ...</td>\n",
              "      <td>Kannada</td>\n",
              "    </tr>\n",
              "  </tbody>\n",
              "</table>\n",
              "</div>\n",
              "      <button class=\"colab-df-convert\" onclick=\"convertToInteractive('df-f2e34a2d-b0b6-4975-86fa-807f1f7e9c54')\"\n",
              "              title=\"Convert this dataframe to an interactive table.\"\n",
              "              style=\"display:none;\">\n",
              "        \n",
              "  <svg xmlns=\"http://www.w3.org/2000/svg\" height=\"24px\"viewBox=\"0 0 24 24\"\n",
              "       width=\"24px\">\n",
              "    <path d=\"M0 0h24v24H0V0z\" fill=\"none\"/>\n",
              "    <path d=\"M18.56 5.44l.94 2.06.94-2.06 2.06-.94-2.06-.94-.94-2.06-.94 2.06-2.06.94zm-11 1L8.5 8.5l.94-2.06 2.06-.94-2.06-.94L8.5 2.5l-.94 2.06-2.06.94zm10 10l.94 2.06.94-2.06 2.06-.94-2.06-.94-.94-2.06-.94 2.06-2.06.94z\"/><path d=\"M17.41 7.96l-1.37-1.37c-.4-.4-.92-.59-1.43-.59-.52 0-1.04.2-1.43.59L10.3 9.45l-7.72 7.72c-.78.78-.78 2.05 0 2.83L4 21.41c.39.39.9.59 1.41.59.51 0 1.02-.2 1.41-.59l7.78-7.78 2.81-2.81c.8-.78.8-2.07 0-2.86zM5.41 20L4 18.59l7.72-7.72 1.47 1.35L5.41 20z\"/>\n",
              "  </svg>\n",
              "      </button>\n",
              "      \n",
              "  <style>\n",
              "    .colab-df-container {\n",
              "      display:flex;\n",
              "      flex-wrap:wrap;\n",
              "      gap: 12px;\n",
              "    }\n",
              "\n",
              "    .colab-df-convert {\n",
              "      background-color: #E8F0FE;\n",
              "      border: none;\n",
              "      border-radius: 50%;\n",
              "      cursor: pointer;\n",
              "      display: none;\n",
              "      fill: #1967D2;\n",
              "      height: 32px;\n",
              "      padding: 0 0 0 0;\n",
              "      width: 32px;\n",
              "    }\n",
              "\n",
              "    .colab-df-convert:hover {\n",
              "      background-color: #E2EBFA;\n",
              "      box-shadow: 0px 1px 2px rgba(60, 64, 67, 0.3), 0px 1px 3px 1px rgba(60, 64, 67, 0.15);\n",
              "      fill: #174EA6;\n",
              "    }\n",
              "\n",
              "    [theme=dark] .colab-df-convert {\n",
              "      background-color: #3B4455;\n",
              "      fill: #D2E3FC;\n",
              "    }\n",
              "\n",
              "    [theme=dark] .colab-df-convert:hover {\n",
              "      background-color: #434B5C;\n",
              "      box-shadow: 0px 1px 3px 1px rgba(0, 0, 0, 0.15);\n",
              "      filter: drop-shadow(0px 1px 2px rgba(0, 0, 0, 0.3));\n",
              "      fill: #FFFFFF;\n",
              "    }\n",
              "  </style>\n",
              "\n",
              "      <script>\n",
              "        const buttonEl =\n",
              "          document.querySelector('#df-f2e34a2d-b0b6-4975-86fa-807f1f7e9c54 button.colab-df-convert');\n",
              "        buttonEl.style.display =\n",
              "          google.colab.kernel.accessAllowed ? 'block' : 'none';\n",
              "\n",
              "        async function convertToInteractive(key) {\n",
              "          const element = document.querySelector('#df-f2e34a2d-b0b6-4975-86fa-807f1f7e9c54');\n",
              "          const dataTable =\n",
              "            await google.colab.kernel.invokeFunction('convertToInteractive',\n",
              "                                                     [key], {});\n",
              "          if (!dataTable) return;\n",
              "\n",
              "          const docLinkHtml = 'Like what you see? Visit the ' +\n",
              "            '<a target=\"_blank\" href=https://colab.research.google.com/notebooks/data_table.ipynb>data table notebook</a>'\n",
              "            + ' to learn more about interactive tables.';\n",
              "          element.innerHTML = '';\n",
              "          dataTable['output_type'] = 'display_data';\n",
              "          await google.colab.output.renderOutput(dataTable, element);\n",
              "          const docLink = document.createElement('div');\n",
              "          docLink.innerHTML = docLinkHtml;\n",
              "          element.appendChild(docLink);\n",
              "        }\n",
              "      </script>\n",
              "    </div>\n",
              "  </div>\n",
              "  "
            ]
          },
          "metadata": {},
          "execution_count": 30
        }
      ]
    },
    {
      "cell_type": "code",
      "source": [
        "data = data.drop(['Unnamed: 0'], axis = 1)"
      ],
      "metadata": {
        "id": "zyCqxWvx0QNh"
      },
      "execution_count": 31,
      "outputs": []
    },
    {
      "cell_type": "code",
      "source": [
        "data[\"Language\"].value_counts()"
      ],
      "metadata": {
        "colab": {
          "base_uri": "https://localhost:8080/"
        },
        "id": "b6iF65Wc0ScC",
        "outputId": "379985d9-1387-49f9-d035-5f7d6bc64ffe"
      },
      "execution_count": 32,
      "outputs": [
        {
          "output_type": "execute_result",
          "data": {
            "text/plain": [
              "Telugu       600\n",
              "Malayalam    594\n",
              "Tamil        469\n",
              "Kannada      369\n",
              "Name: Language, dtype: int64"
            ]
          },
          "metadata": {},
          "execution_count": 32
        }
      ]
    },
    {
      "cell_type": "code",
      "source": [
        "X = data['Text']\n",
        "X.sample(5)"
      ],
      "metadata": {
        "colab": {
          "base_uri": "https://localhost:8080/"
        },
        "id": "Ekl4U96z0VQ9",
        "outputId": "4aa93ae0-d96e-4dfd-c61e-589f9c638d0c"
      },
      "execution_count": 33,
      "outputs": [
        {
          "output_type": "execute_result",
          "data": {
            "text/plain": [
              "1034    വളരെ അങ്ങനെ സ്മാർട്ട് വാക്ക് നമ്പർ നാല് ഒന്നുമ...\n",
              "812     நீங்கள் இந்த வீடியோவைப் பார்க்கும்போது எந்த நா...\n",
              "1873    మోదీ నాయకత్వంలో ఈ భేటీ సాగేందుకు శ్రీలంక అధ్యక...\n",
              "1534    అహ్మదాబాద్: గుజరాత్ లో విచిత్రమైన సంఘటన జరిగింది.\n",
              "80      మెల్లగా మొదలుపెట్టి, క్రమంగా స్థాయిని పెంచుకుం...\n",
              "Name: Text, dtype: object"
            ]
          },
          "metadata": {},
          "execution_count": 33
        }
      ]
    },
    {
      "cell_type": "code",
      "source": [
        "Y = data['Language']\n",
        "Y.sample(5)"
      ],
      "metadata": {
        "colab": {
          "base_uri": "https://localhost:8080/"
        },
        "id": "i8VXonCT0Wws",
        "outputId": "29d5f487-27ab-426c-9fcf-ac3fa1c83e9d"
      },
      "execution_count": 34,
      "outputs": [
        {
          "output_type": "execute_result",
          "data": {
            "text/plain": [
              "1687        Tamil\n",
              "1113        Tamil\n",
              "1898       Telugu\n",
              "779        Telugu\n",
              "76      Malayalam\n",
              "Name: Language, dtype: object"
            ]
          },
          "metadata": {},
          "execution_count": 34
        }
      ]
    },
    {
      "cell_type": "code",
      "source": [
        "data['Language']"
      ],
      "metadata": {
        "colab": {
          "base_uri": "https://localhost:8080/"
        },
        "id": "gz2G3WT9Uptj",
        "outputId": "1e85c36f-9101-4f08-e7ca-652c6b4dfc2c"
      },
      "execution_count": 36,
      "outputs": [
        {
          "output_type": "execute_result",
          "data": {
            "text/plain": [
              "0         Kannada\n",
              "1          Telugu\n",
              "2         Kannada\n",
              "3           Tamil\n",
              "4         Kannada\n",
              "          ...    \n",
              "2027        Tamil\n",
              "2028        Tamil\n",
              "2029       Telugu\n",
              "2030    Malayalam\n",
              "2031    Malayalam\n",
              "Name: Language, Length: 2032, dtype: object"
            ]
          },
          "metadata": {},
          "execution_count": 36
        }
      ]
    },
    {
      "cell_type": "code",
      "source": [
        "#from sklearn.preprocessing import LabelEncoder\n",
        "#import re\n",
        "le = LabelEncoder()\n",
        "Y = le.fit_transform(Y)"
      ],
      "metadata": {
        "id": "Sq2cNPN30YOT"
      },
      "execution_count": 37,
      "outputs": []
    },
    {
      "cell_type": "code",
      "source": [
        "data_list = []\n",
        "# iterating through all the text\n",
        "for text in X:\n",
        "    \n",
        "       # removing the symbols and numbers\n",
        "        text = re.sub(r'[!@#$(),n\"%^*?:;~`0-9]', ' ', text)\n",
        "        text = re.sub(r'[[]]', ' ', text)\n",
        "        # converting the text to lower case\n",
        "        text = text.lower()\n",
        "        # appending to data_list\n",
        "        data_list.append(text)"
      ],
      "metadata": {
        "id": "61yG_FoA0cL2"
      },
      "execution_count": 38,
      "outputs": []
    },
    {
      "cell_type": "code",
      "source": [
        "#from sklearn.feature_extraction.text import CountVectorizer\n",
        "cv = CountVectorizer()\n",
        "X = cv.fit_transform(data_list).toarray()\n",
        "X.shape"
      ],
      "metadata": {
        "colab": {
          "base_uri": "https://localhost:8080/"
        },
        "id": "YF5Mu1QY0kbR",
        "outputId": "f0896a80-dad6-47ce-ed31-2400fccdb937"
      },
      "execution_count": 39,
      "outputs": [
        {
          "output_type": "execute_result",
          "data": {
            "text/plain": [
              "(2032, 2735)"
            ]
          },
          "metadata": {},
          "execution_count": 39
        }
      ]
    },
    {
      "cell_type": "code",
      "source": [
        "x_train,x_test,y_train,y_test = train_test_split(X,Y,random_state = 42,test_size=0.30)"
      ],
      "metadata": {
        "id": "NtFNS4pP0qO5"
      },
      "execution_count": 40,
      "outputs": []
    },
    {
      "cell_type": "code",
      "source": [
        "models = []\n",
        "models.append(('Logistic Regression', LogisticRegression()))\n",
        "\n",
        "models.append(('SVM', SVC(kernel = 'linear')))\n",
        "\n",
        "models.append(('Multinominal Naive Bayes', MultinomialNB()))"
      ],
      "metadata": {
        "id": "vJRjLU5n0tOl"
      },
      "execution_count": 41,
      "outputs": []
    },
    {
      "cell_type": "code",
      "source": [
        "#from sklearn import metrics\n",
        "results = []\n",
        "names = []\n",
        "confusion_matrix_a = []\n",
        "y_pred_matrix = []\n",
        "#scoring = 'accuracy'\n",
        "for name, model in models:\n",
        "    model.fit(x_train,y_train)\n",
        "    y_pred = model.predict(x_test)\n",
        "    accuracy = accuracy_score(y_test,y_pred)\n",
        "    #classification_r = classification_report(y_test,y_pred)\n",
        "    cm = confusion_matrix(y_test,np.rint(y_pred)) #confusion_matrix\n",
        "    print(\"Accuracy of \",name,\" is : \",accuracy)\n",
        "    results.append(accuracy)\n",
        "    names.append(name)\n",
        "    confusion_matrix_a.append(cm)\n",
        "    y_pred_matrix.append(y_pred)\n",
        "    "
      ],
      "metadata": {
        "colab": {
          "base_uri": "https://localhost:8080/"
        },
        "id": "ANiyhxK60v7F",
        "outputId": "c9d75148-e75f-4415-e87e-8f4b57ea01a1"
      },
      "execution_count": 42,
      "outputs": [
        {
          "output_type": "stream",
          "name": "stdout",
          "text": [
            "Accuracy of  Logistic Regression  is :  0.9311475409836065\n",
            "Accuracy of  SVM  is :  0.9262295081967213\n",
            "Accuracy of  Multinominal Naive Bayes  is :  0.9688524590163935\n"
          ]
        }
      ]
    },
    {
      "cell_type": "code",
      "source": [
        "fig = plt.figure()\n",
        "fig = plt.figure(figsize = (7, 5))\n",
        "plt.bar(names,results,width=0.4)\n",
        "plt.text(0,results[0],results[0])\n",
        "plt.text(1,results[1],results[1])\n",
        "plt.text(2,results[2],results[2])\n",
        "plt.title('Models Comparison')\n",
        "plt.ylabel(\"Accuracy\")\n",
        "plt.show()"
      ],
      "metadata": {
        "colab": {
          "base_uri": "https://localhost:8080/",
          "height": 356
        },
        "id": "ugHSxZIm0yNW",
        "outputId": "5a540dab-69cb-4095-86c7-b7cbd2d40c6a"
      },
      "execution_count": 81,
      "outputs": [
        {
          "output_type": "display_data",
          "data": {
            "text/plain": [
              "<Figure size 432x288 with 0 Axes>"
            ]
          },
          "metadata": {}
        },
        {
          "output_type": "display_data",
          "data": {
            "text/plain": [
              "<Figure size 504x360 with 1 Axes>"
            ],
            "image/png": "[encoded data removed]"
          },
          "metadata": {
            "needs_background": "light"
          }
        }
      ]
    },
    {
      "cell_type": "code",
      "source": [
        "#plt.figure()\n",
        "'''\n",
        "i = 0\n",
        "for c in confusion_matrix:\n",
        "  plt.title(names[i])\n",
        "  sns.heatmap(c, annot=True)\n",
        "  plt.show()\n",
        "  i+=1\n",
        "'''"
      ],
      "metadata": {
        "id": "dsu1lERJTTVI"
      },
      "execution_count": null,
      "outputs": []
    },
    {
      "cell_type": "code",
      "source": [
        "language_variables = ['Kan','Mal','Tel','Tam']"
      ],
      "metadata": {
        "id": "0Gjpmj_tTUXR"
      },
      "execution_count": 57,
      "outputs": []
    },
    {
      "cell_type": "code",
      "source": [
        "#LR\n",
        "plt.figure(figsize = (7,5))\n",
        "sns.heatmap(confusion_matrix_a[0],annot = True,fmt='d', cmap='Blues',xticklabels=language_variables, yticklabels = language_variables)\n",
        "#sns.set(xlabel='X-Axis', ylabel='Y-Axis')\n",
        "plt.title(names[0])\n",
        "plt.show()\n"
      ],
      "metadata": {
        "colab": {
          "base_uri": "https://localhost:8080/",
          "height": 337
        },
        "id": "RTVPIHL21doo",
        "outputId": "69dff793-f294-4d8e-ec7f-61e763364e9d"
      },
      "execution_count": 58,
      "outputs": [
        {
          "output_type": "display_data",
          "data": {
            "text/plain": [
              "<Figure size 504x360 with 2 Axes>"
            ],
            "image/png": "[encoded data removed]"
          },
          "metadata": {
            "needs_background": "light"
          }
        }
      ]
    },
    {
      "cell_type": "code",
      "source": [
        "#SVM\n",
        "plt.figure(figsize = (7,5))\n",
        "sns.heatmap(confusion_matrix_a[1],annot = True,fmt='d', cmap='Blues',xticklabels=language_variables, yticklabels = language_variables)\n",
        "plt.title(names[1])\n",
        "plt.show()"
      ],
      "metadata": {
        "colab": {
          "base_uri": "https://localhost:8080/",
          "height": 337
        },
        "id": "VBRbfNZmKIbb",
        "outputId": "1343abc6-c93f-4e44-c242-cf413dde2bb2"
      },
      "execution_count": 59,
      "outputs": [
        {
          "output_type": "display_data",
          "data": {
            "text/plain": [
              "<Figure size 504x360 with 2 Axes>"
            ],
            "image/png": "[encoded data removed]"
          },
          "metadata": {
            "needs_background": "light"
          }
        }
      ]
    },
    {
      "cell_type": "code",
      "source": [
        "#MNB\n",
        "plt.figure(figsize = (7,5))\n",
        "sns.heatmap(confusion_matrix_a[2],annot = True,fmt='d', cmap='Blues',xticklabels=language_variables, yticklabels = language_variables)\n",
        "plt.title(names[2])\n",
        "plt.show()"
      ],
      "metadata": {
        "colab": {
          "base_uri": "https://localhost:8080/",
          "height": 337
        },
        "id": "DLAYeyFvKJEV",
        "outputId": "bf1fda50-8d69-4a60-da1f-6573e8fb290d"
      },
      "execution_count": 60,
      "outputs": [
        {
          "output_type": "display_data",
          "data": {
            "text/plain": [
              "<Figure size 504x360 with 2 Axes>"
            ],
            "image/png": "[encoded data removed]"
          },
          "metadata": {
            "needs_background": "light"
          }
        }
      ]
    },
    {
      "cell_type": "code",
      "source": [
        "'''\n",
        "fig, (m1,m2,m3) = plt.subplots(1,3)\n",
        "i = 0\n",
        "for c in confusion_matrix:\n",
        "  plt.title(names[i])\n",
        "  sns.heatmap(c, annot=True)\n",
        "  plt.show()\n",
        "  i+=1\n",
        "'''  "
      ],
      "metadata": {
        "colab": {
          "base_uri": "https://localhost:8080/",
          "height": 812
        },
        "id": "JDlj4KNF3jKX",
        "outputId": "b9e8ec01-0c1f-4d02-b167-8d42de07a6d8"
      },
      "execution_count": null,
      "outputs": [
        {
          "output_type": "display_data",
          "data": {
            "text/plain": [
              "<Figure size 432x288 with 4 Axes>"
            ],
            "image/png": "[encoded data removed]"
          },
          "metadata": {}
        },
        {
          "output_type": "display_data",
          "data": {
            "text/plain": [
              "<Figure size 432x288 with 2 Axes>"
            ],
            "image/png": "[encoded data removed]"
          },
          "metadata": {}
        },
        {
          "output_type": "display_data",
          "data": {
            "text/plain": [
              "<Figure size 432x288 with 2 Axes>"
            ],
            "image/png": "[encoded data removed]"
          },
          "metadata": {}
        }
      ]
    },
    {
      "cell_type": "code",
      "source": [
        "#target_variables = ['LR','SVM','MNB']"
      ],
      "metadata": {
        "id": "QdmpYZsARS0F"
      },
      "execution_count": null,
      "outputs": []
    },
    {
      "cell_type": "code",
      "source": [
        "#Logistic regression performance metrics:\n",
        "LR_Cr = classification_report(y_pred_matrix[0],y_pred,target_names = language_variables)\n",
        "print(LR_Cr)\n",
        "\n",
        "#y_pred_matrix"
      ],
      "metadata": {
        "colab": {
          "base_uri": "https://localhost:8080/"
        },
        "id": "i17ymIn9iVNi",
        "outputId": "dd00cc0a-1ada-4109-bccb-b15f33374a8f"
      },
      "execution_count": 53,
      "outputs": [
        {
          "output_type": "stream",
          "name": "stdout",
          "text": [
            "              precision    recall  f1-score   support\n",
            "\n",
            "         Kan       0.92      1.00      0.96       101\n",
            "         Mal       0.82      1.00      0.90       148\n",
            "         Tel       0.95      1.00      0.97       132\n",
            "         Tam       1.00      0.79      0.88       229\n",
            "\n",
            "    accuracy                           0.92       610\n",
            "   macro avg       0.92      0.95      0.93       610\n",
            "weighted avg       0.93      0.92      0.92       610\n",
            "\n"
          ]
        }
      ]
    },
    {
      "cell_type": "code",
      "source": [
        "#SVM\n",
        "SVM_Cr = classification_report(y_pred_matrix[1],y_pred,target_names = language_variables)\n",
        "print(SVM_Cr)"
      ],
      "metadata": {
        "colab": {
          "base_uri": "https://localhost:8080/"
        },
        "id": "KDX11vnVJ4RG",
        "outputId": "c6137657-1f0a-4d75-97d3-5a861d81fb1d"
      },
      "execution_count": 55,
      "outputs": [
        {
          "output_type": "stream",
          "name": "stdout",
          "text": [
            "              precision    recall  f1-score   support\n",
            "\n",
            "         Kan       0.90      1.00      0.95        99\n",
            "         Mal       0.80      1.00      0.89       144\n",
            "         Tel       0.97      1.00      0.99       135\n",
            "         Tam       1.00      0.78      0.87       232\n",
            "\n",
            "    accuracy                           0.91       610\n",
            "   macro avg       0.92      0.94      0.92       610\n",
            "weighted avg       0.93      0.91      0.91       610\n",
            "\n"
          ]
        }
      ]
    },
    {
      "cell_type": "code",
      "source": [
        "#MNB\n",
        "MNB_Cr = classification_report(y_pred_matrix[2],y_pred,target_names = language_variables)\n",
        "print(MNB_Cr)"
      ],
      "metadata": {
        "colab": {
          "base_uri": "https://localhost:8080/"
        },
        "id": "6UtjuidkKCZt",
        "outputId": "5408cc75-7367-4d69-d96b-187977c456b6"
      },
      "execution_count": 56,
      "outputs": [
        {
          "output_type": "stream",
          "name": "stdout",
          "text": [
            "              precision    recall  f1-score   support\n",
            "\n",
            "         Kan       1.00      1.00      1.00       110\n",
            "         Mal       1.00      1.00      1.00       181\n",
            "         Tel       1.00      1.00      1.00       139\n",
            "         Tam       1.00      1.00      1.00       180\n",
            "\n",
            "    accuracy                           1.00       610\n",
            "   macro avg       1.00      1.00      1.00       610\n",
            "weighted avg       1.00      1.00      1.00       610\n",
            "\n"
          ]
        }
      ]
    },
    {
      "cell_type": "code",
      "source": [
        "#Linear Regression - LR\n",
        "#Support Vector Machine - SVM\n",
        "#Multinomial Naive Bayes - MNB\n",
        "LR = models[0][1]\n",
        "SVM = models[1][1]\n",
        "MNB = models[2][1]\n"
      ],
      "metadata": {
        "id": "NbvwE64CKopg"
      },
      "execution_count": null,
      "outputs": []
    },
    {
      "cell_type": "code",
      "source": [
        ""
      ],
      "metadata": {
        "id": "yLYTgXRKiUda"
      },
      "execution_count": null,
      "outputs": []
    },
    {
      "cell_type": "code",
      "source": [
        "def prediction(text,m):\n",
        "  x = cv.transform([text]).toarray()\n",
        "  l = m.predict(x)\n",
        "  l = le.inverse_transform(l)\n",
        "  print(\"The language is \",l)"
      ],
      "metadata": {
        "id": "16i3MatjEVRp"
      },
      "execution_count": null,
      "outputs": []
    },
    {
      "cell_type": "code",
      "source": [
        "prediction(\"సమానులును నగుదురు. వారు వివేచన-అంతఃకరణ\",LR)  #tel"
      ],
      "metadata": {
        "colab": {
          "base_uri": "https://localhost:8080/"
        },
        "id": "pmg7Uh5GH7fC",
        "outputId": "f6f0592a-af40-435d-fd5b-7d4a505cb2bb"
      },
      "execution_count": null,
      "outputs": [
        {
          "output_type": "stream",
          "name": "stdout",
          "text": [
            "The language is  ['Telugu']\n"
          ]
        }
      ]
    },
    {
      "cell_type": "code",
      "source": [
        "prediction(\"உங்களை சந்தித்ததில் மகிழ்ச்ச\",SVM)  #tam"
      ],
      "metadata": {
        "colab": {
          "base_uri": "https://localhost:8080/"
        },
        "id": "3Bpek0sDL81v",
        "outputId": "7ec73f9d-65ee-42ce-cc71-78e039c34ac1"
      },
      "execution_count": null,
      "outputs": [
        {
          "output_type": "stream",
          "name": "stdout",
          "text": [
            "The language is  ['Tamil']\n"
          ]
        }
      ]
    },
    {
      "cell_type": "code",
      "source": [
        "prediction(\"ഇന്ന് നിങ്ങൾക്കെങ്ങനെയുണ്ട്\",MNB)  #mal"
      ],
      "metadata": {
        "colab": {
          "base_uri": "https://localhost:8080/"
        },
        "id": "0iRCjaM2MYcy",
        "outputId": "c2fa778f-f3b6-4d2d-8b5f-a1edff498699"
      },
      "execution_count": null,
      "outputs": [
        {
          "output_type": "stream",
          "name": "stdout",
          "text": [
            "The language is  ['Malayalam']\n"
          ]
        }
      ]
    },
    {
      "cell_type": "code",
      "source": [
        "prediction(\"ನನ್ನ ಹೆಸರು ಪ್ರಣವ್\",MNB)  #Kan"
      ],
      "metadata": {
        "colab": {
          "base_uri": "https://localhost:8080/"
        },
        "id": "lugZlzTyfC7e",
        "outputId": "7a47fdc0-37b9-4eef-c925-6e89c9a6e95c"
      },
      "execution_count": null,
      "outputs": [
        {
          "output_type": "stream",
          "name": "stdout",
          "text": [
            "The language is  ['Kannada']\n"
          ]
        }
      ]
    }
  ]
}